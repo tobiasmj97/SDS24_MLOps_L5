{
 "cells": [
  {
   "cell_type": "markdown",
   "metadata": {},
   "source": [
    "# Training the first model (Part 2)\n",
    "\n",
    "<img src=\"images\\pen2.jpg\" width=\"300\" height=\"300\">"
   ]
  },
  {
   "cell_type": "markdown",
   "metadata": {},
   "source": []
  },
  {
   "cell_type": "code",
   "execution_count": 1,
   "metadata": {},
   "outputs": [],
   "source": [
    "# Import packages\n",
    "from sklearn.model_selection import train_test_split\n",
    "from sklearn.preprocessing import StandardScaler, LabelEncoder\n",
    "from sklearn.linear_model import LogisticRegression\n",
    "from sklearn.metrics import accuracy_score, confusion_matrix\n",
    "import seaborn as sns\n",
    "import pandas as pd\n",
    "import numpy as np\n",
    "import sqlite3\n",
    "import os\n",
    "import joblib"
   ]
  },
  {
   "cell_type": "markdown",
   "metadata": {},
   "source": [
    "## Define the first model"
   ]
  },
  {
   "cell_type": "code",
   "execution_count": 2,
   "metadata": {},
   "outputs": [],
   "source": [
    "# Model parameters:\n",
    "model_version = 1\n",
    "model_id = int(model_version) + 100 \n",
    "max_iter=30  # I used this to lower the model's performance\n",
    "random_state=42\n",
    "data_size = 165\n",
    "scaled = False # I used this to lower the model's performance and have difference to other models\n",
    "method = 'LogisticRegression'\n",
    "\n",
    "# data_size is subjectively defined to be around half of dataset"
   ]
  },
  {
   "cell_type": "markdown",
   "metadata": {},
   "source": [
    "### We set new statuses in STATUS table"
   ]
  },
  {
   "cell_type": "code",
   "execution_count": 3,
   "metadata": {},
   "outputs": [],
   "source": [
    "# Connect to database and add two new statuses\n",
    "conn = sqlite3.connect('db_penguins.db')\n",
    "cursor = conn.cursor()\n",
    "conn.execute(f\"INSERT INTO STATUS (status_id, status_type) VALUES ({model_version}, 'M{model_version}_train')\")\n",
    "conn.execute(f\"INSERT INTO STATUS (status_id, status_type) VALUES ({model_version +1}, 'M{model_version}_test')\")\n",
    "conn.commit()"
   ]
  },
  {
   "cell_type": "markdown",
   "metadata": {},
   "source": [
    "### We query random data from database"
   ]
  },
  {
   "cell_type": "code",
   "execution_count": 4,
   "metadata": {},
   "outputs": [],
   "source": [
    "# Select random ? datapoints from the PENGUINS table\n",
    "query = f\"SELECT * FROM PENGUINS ORDER BY RANDOM() LIMIT {data_size}\"\n",
    "df = pd.read_sql_query(query, conn)\n",
    "\n",
    "# Close the database connection\n",
    "conn.close()"
   ]
  },
  {
   "cell_type": "code",
   "execution_count": 5,
   "metadata": {},
   "outputs": [],
   "source": [
    "# Encode the 'species' column to numerical values\n",
    "label_encoder = LabelEncoder()\n",
    "df['species'] = label_encoder.fit_transform(df['species'])\n",
    "\n",
    "# Selecting features and target variable\n",
    "# We include animal_id to track datapoints\n",
    "X = df[['bill_length_mm', 'bill_depth_mm', 'flipper_length_mm', 'body_mass_g', 'animal_id']]\n",
    "y = df['species']\n",
    "\n",
    "# Split the data into training and test sets\n",
    "X_train, X_test, y_train, y_test = train_test_split(X, y, test_size=0.3, random_state=42)\n",
    "\n",
    "# After splitting into X_train and X_test, get the 'animal_id' for each\n",
    "train_ids = X_train['animal_id'].tolist()\n",
    "test_ids = X_test['animal_id'].tolist()"
   ]
  },
  {
   "cell_type": "code",
   "execution_count": 6,
   "metadata": {},
   "outputs": [],
   "source": [
    "# Convert train_ids and test_ids to a comma-separated string for storage in db table MODEL\n",
    "fv_train = ','.join(map(str, train_ids))\n",
    "fv_test = ','.join(map(str, test_ids))"
   ]
  },
  {
   "cell_type": "code",
   "execution_count": 7,
   "metadata": {},
   "outputs": [],
   "source": [
    "# Update the database with the status for each animal_id\n",
    "update_train_status = f\"UPDATE PENGUINS SET status_id = {model_version} WHERE animal_id = ?\"\n",
    "update_test_status = f\"UPDATE PENGUINS SET status_id = {model_version + 1} WHERE animal_id = ?\"\n",
    "\n",
    "conn = sqlite3.connect('db_penguins.db')\n",
    "cursor = conn.cursor()\n",
    "\n",
    "# Execute the updates\n",
    "for aid in train_ids:\n",
    "    conn.execute(update_train_status, (aid,))\n",
    "for aid in test_ids:\n",
    "    conn.execute(update_test_status, (aid,))\n",
    "\n",
    "# Commit the changes and close the database connection\n",
    "conn.commit()\n",
    "conn.close()"
   ]
  },
  {
   "cell_type": "code",
   "execution_count": 8,
   "metadata": {},
   "outputs": [],
   "source": [
    "# we will not use Scaling in the first model\n",
    "\n",
    "# remove 'animal_id' from X_train and X_test\n",
    "X_train = X_train.drop(['animal_id'], axis=1)\n",
    "X_test = X_test.drop(['animal_id'], axis=1)\n",
    "\n",
    "# Feature Scaling\n",
    "scaler = StandardScaler()\n",
    "#X_train_scaled = scaler.fit_transform(X_train)\n",
    "#X_test_scaled = scaler.transform(X_test)\n",
    "\n",
    "X_train_scaled = X_train\n",
    "X_test_scaled = X_test"
   ]
  },
  {
   "cell_type": "code",
   "execution_count": 9,
   "metadata": {},
   "outputs": [
    {
     "name": "stdout",
     "output_type": "stream",
     "text": [
      "Accuracy: 0.72\n",
      "Confusion Matrix:\n",
      "[[18  0  3]\n",
      " [ 7  4  0]\n",
      " [ 4  0 14]]\n"
     ]
    },
    {
     "name": "stderr",
     "output_type": "stream",
     "text": [
      "/Users/tobiasmjensen/anaconda3/envs/bds-mlops/lib/python3.11/site-packages/sklearn/linear_model/_logistic.py:469: ConvergenceWarning: lbfgs failed to converge (status=1):\n",
      "STOP: TOTAL NO. of ITERATIONS REACHED LIMIT.\n",
      "\n",
      "Increase the number of iterations (max_iter) or scale the data as shown in:\n",
      "    https://scikit-learn.org/stable/modules/preprocessing.html\n",
      "Please also refer to the documentation for alternative solver options:\n",
      "    https://scikit-learn.org/stable/modules/linear_model.html#logistic-regression\n",
      "  n_iter_i = _check_optimize_result(\n"
     ]
    }
   ],
   "source": [
    "# Train a Logistic Regression Model\n",
    "model = LogisticRegression(max_iter=max_iter, random_state=random_state)\n",
    "model.fit(X_train_scaled, y_train)\n",
    "\n",
    "# Predict on the test set\n",
    "y_pred = model.predict(X_test_scaled)\n",
    "\n",
    "# Evaluate the Model\n",
    "accuracy = accuracy_score(y_test, y_pred)\n",
    "conf_matrix = confusion_matrix(y_test, y_pred)\n",
    "\n",
    "print(f\"Accuracy: {accuracy}\")\n",
    "print(\"Confusion Matrix:\")\n",
    "print(conf_matrix)"
   ]
  },
  {
   "cell_type": "code",
   "execution_count": 10,
   "metadata": {},
   "outputs": [
    {
     "data": {
      "text/plain": [
       "['./models/model_v1.joblib']"
      ]
     },
     "execution_count": 10,
     "metadata": {},
     "output_type": "execute_result"
    }
   ],
   "source": [
    "# Save model to local directory\n",
    "model_directory = \"/models\"\n",
    "model_filename = f\"model_v{model_version}.joblib\"\n",
    "model_path = f\".{model_directory}/{model_filename}\"\n",
    "joblib.dump(model, model_path)"
   ]
  },
  {
   "cell_type": "code",
   "execution_count": 11,
   "metadata": {},
   "outputs": [],
   "source": [
    "# Write model data to sql\n",
    "conn = sqlite3.connect('db_penguins.db')\n",
    "cursor = conn.cursor()\n",
    "# Insert model data into MODEL table including fv_train and fv_test\n",
    "sql_insert_model = \"\"\"\n",
    "INSERT INTO MODEL (\n",
    "    model_id,\n",
    "    model_version,\n",
    "    model_method,\n",
    "    model_size,\n",
    "    model_scaled,\n",
    "    model_accuracy,\n",
    "    fv_train,\n",
    "    fv_test\n",
    ") VALUES (?, ?, ?, ?, ?, ?, ?, ?)\n",
    "\"\"\"\n",
    "cursor.execute(sql_insert_model, (model_id, model_version, method, data_size, int(scaled), accuracy, fv_train, fv_test))\n",
    "\n",
    "conn.commit()\n",
    "conn.close()\n",
    "\n"
   ]
  }
 ],
 "metadata": {
  "kernelspec": {
   "display_name": "SDS24",
   "language": "python",
   "name": "python3"
  },
  "language_info": {
   "codemirror_mode": {
    "name": "ipython",
    "version": 3
   },
   "file_extension": ".py",
   "mimetype": "text/x-python",
   "name": "python",
   "nbconvert_exporter": "python",
   "pygments_lexer": "ipython3",
   "version": "3.11.8"
  }
 },
 "nbformat": 4,
 "nbformat_minor": 2
}
