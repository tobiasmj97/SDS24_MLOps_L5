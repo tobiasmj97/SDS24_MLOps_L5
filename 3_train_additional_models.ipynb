{
 "cells": [
  {
   "cell_type": "markdown",
   "metadata": {},
   "source": [
    "# Training additional model (Part 3)\n",
    "\n",
    "<img src=\"images\\pen3.jpg\" width=\"300\" height=\"300\">"
   ]
  },
  {
   "cell_type": "code",
   "execution_count": 1,
   "metadata": {},
   "outputs": [],
   "source": [
    "from sklearn.model_selection import train_test_split\n",
    "from sklearn.preprocessing import StandardScaler, LabelEncoder\n",
    "from sklearn.linear_model import LogisticRegression\n",
    "from sklearn.metrics import accuracy_score, confusion_matrix\n",
    "import seaborn as sns\n",
    "import pandas as pd\n",
    "import numpy as np\n",
    "import sqlite3\n",
    "import os\n",
    "import joblib"
   ]
  },
  {
   "cell_type": "code",
   "execution_count": 2,
   "metadata": {},
   "outputs": [],
   "source": [
    "# Model parameters:\n",
    "model_version = 2\n",
    "model_id = int(model_version) + 100 \n",
    "max_iter=30\n",
    "random_state=42\n",
    "#data_size = 165    We redefine this value later\n",
    "scaled = True\n",
    "method = 'LogisticRegression'"
   ]
  },
  {
   "cell_type": "code",
   "execution_count": 3,
   "metadata": {},
   "outputs": [],
   "source": [
    "# Connect to database and add two new statuses\n",
    "conn = sqlite3.connect('db_penguins.db')\n",
    "cursor = conn.cursor()\n",
    "conn.execute(f\"INSERT INTO STATUS (status_id, status_type) VALUES ({model_version +1}, 'M{model_version}_train')\")\n",
    "conn.execute(f\"INSERT INTO STATUS (status_id, status_type) VALUES ({model_version +2}, 'M{model_version +1}_test')\")\n",
    "conn.commit()\n"
   ]
  },
  {
   "cell_type": "code",
   "execution_count": 4,
   "metadata": {},
   "outputs": [],
   "source": [
    "# Select all datapoints from the PENGUINS table that were not used in Model 1\n",
    "query = f\"SELECT * FROM PENGUINS WHERE status_id IS NULL\"\n",
    "df = pd.read_sql_query(query, conn)\n",
    "\n",
    "# Close the database connection\n",
    "conn.close()\n",
    "\n",
    "# Data size is equal as the length of the df\n",
    "data_size = len(df)"
   ]
  },
  {
   "cell_type": "code",
   "execution_count": 5,
   "metadata": {},
   "outputs": [],
   "source": [
    "# Encode the 'species' column to numerical values\n",
    "label_encoder = LabelEncoder()\n",
    "df['species'] = label_encoder.fit_transform(df['species'])\n",
    "\n",
    "# Selecting features and target variable\n",
    "X = df[['bill_length_mm', 'bill_depth_mm', 'flipper_length_mm', 'body_mass_g', 'animal_id']]\n",
    "y = df['species']\n",
    "\n",
    "# Split the data into training and test sets\n",
    "X_train, X_test, y_train, y_test = train_test_split(X, y, test_size=0.3, random_state=42)\n",
    "\n",
    "# After splitting into X_train and X_test, get the 'animal_id' for each\n",
    "train_ids = X_train['animal_id'].tolist()\n",
    "test_ids = X_test['animal_id'].tolist()"
   ]
  },
  {
   "cell_type": "code",
   "execution_count": 6,
   "metadata": {},
   "outputs": [],
   "source": [
    "# Convert train_ids and test_ids to a comma-separated string for storage in db table MODEL\n",
    "fv_train = ','.join(map(str, train_ids))\n",
    "fv_test = ','.join(map(str, test_ids))"
   ]
  },
  {
   "cell_type": "code",
   "execution_count": 7,
   "metadata": {},
   "outputs": [],
   "source": [
    "# Update the database with the status for each animal_id\n",
    "update_train_status = f\"UPDATE PENGUINS SET status_id = {model_version +1} WHERE animal_id = ?\"\n",
    "update_test_status = f\"UPDATE PENGUINS SET status_id = {model_version + 2} WHERE animal_id = ?\"\n",
    "\n",
    "conn = sqlite3.connect('db_penguins.db')\n",
    "cursor = conn.cursor()\n",
    "\n",
    "# Execute the updates\n",
    "for aid in train_ids:\n",
    "    conn.execute(update_train_status, (aid,))\n",
    "for aid in test_ids:\n",
    "    conn.execute(update_test_status, (aid,))\n",
    "\n",
    "# Commit the changes and close the database connection\n",
    "conn.commit()\n",
    "conn.close()"
   ]
  },
  {
   "cell_type": "code",
   "execution_count": 8,
   "metadata": {},
   "outputs": [
    {
     "name": "stdout",
     "output_type": "stream",
     "text": [
      "Accuracy: 1.0\n",
      "Confusion Matrix:\n",
      "[[23  0  0]\n",
      " [ 0  9  0]\n",
      " [ 0  0 19]]\n"
     ]
    }
   ],
   "source": [
    "# remove 'animal_id' from X_train and X_test\n",
    "X_train = X_train.drop(['animal_id'], axis=1)\n",
    "X_test = X_test.drop(['animal_id'], axis=1)\n",
    "\n",
    "# Feature Scaling\n",
    "scaler = StandardScaler()\n",
    "X_train_scaled = scaler.fit_transform(X_train)\n",
    "X_test_scaled = scaler.transform(X_test)\n",
    "\n",
    "#X_train_scaled = X_train\n",
    "#X_test_scaled = X_test\n",
    "\n",
    "# Train a Logistic Regression Model\n",
    "model = LogisticRegression(max_iter=max_iter, random_state=random_state)\n",
    "model.fit(X_train_scaled, y_train)\n",
    "\n",
    "# Predict on the test set\n",
    "y_pred = model.predict(X_test_scaled)\n",
    "\n",
    "# Evaluate the Model\n",
    "accuracy = accuracy_score(y_test, y_pred)\n",
    "conf_matrix = confusion_matrix(y_test, y_pred)\n",
    "\n",
    "print(f\"Accuracy: {accuracy}\")\n",
    "print(\"Confusion Matrix:\")\n",
    "print(conf_matrix)"
   ]
  },
  {
   "cell_type": "code",
   "execution_count": 9,
   "metadata": {},
   "outputs": [
    {
     "data": {
      "text/plain": [
       "['./models/model_v2.joblib']"
      ]
     },
     "execution_count": 9,
     "metadata": {},
     "output_type": "execute_result"
    }
   ],
   "source": [
    "# Save model to local directory\n",
    "model_directory = \"/models\"\n",
    "model_filename = f\"model_v{model_version}.joblib\"\n",
    "model_path = f\".{model_directory}/{model_filename}\"\n",
    "joblib.dump(model, model_path)"
   ]
  },
  {
   "cell_type": "code",
   "execution_count": 10,
   "metadata": {},
   "outputs": [],
   "source": [
    "# Write model data to sql\n",
    "conn = sqlite3.connect('db_penguins.db')\n",
    "cursor = conn.cursor()\n",
    "# Insert model data into MODEL table including fv_train and fv_test\n",
    "sql_insert_model = \"\"\"\n",
    "INSERT INTO MODEL (\n",
    "    model_id,\n",
    "    model_version,\n",
    "    model_method,\n",
    "    model_size,\n",
    "    model_scaled,\n",
    "    model_accuracy,\n",
    "    fv_train,\n",
    "    fv_test\n",
    ") VALUES (?, ?, ?, ?, ?, ?, ?, ?)\n",
    "\"\"\"\n",
    "cursor.execute(sql_insert_model, (model_id, model_version, method, data_size, int(scaled), accuracy, fv_train, fv_test))\n",
    "\n",
    "conn.commit()\n",
    "conn.close()\n"
   ]
  }
 ],
 "metadata": {
  "kernelspec": {
   "display_name": "SDS24",
   "language": "python",
   "name": "python3"
  },
  "language_info": {
   "codemirror_mode": {
    "name": "ipython",
    "version": 3
   },
   "file_extension": ".py",
   "mimetype": "text/x-python",
   "name": "python",
   "nbconvert_exporter": "python",
   "pygments_lexer": "ipython3",
   "version": "3.11.8"
  }
 },
 "nbformat": 4,
 "nbformat_minor": 2
}
